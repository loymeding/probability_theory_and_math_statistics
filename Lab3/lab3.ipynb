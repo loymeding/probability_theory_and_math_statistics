{
 "cells": [
  {
   "cell_type": "code",
   "execution_count": 109,
   "outputs": [],
   "source": [
    "import pandas as pd\n",
    "import matplotlib.pyplot as plt\n",
    "import scipy.stats as stats\n",
    "from sklearn.linear_model import LinearRegression"
   ],
   "metadata": {
    "collapsed": false,
    "ExecuteTime": {
     "end_time": "2024-11-25T20:45:21.571009Z",
     "start_time": "2024-11-25T20:45:21.544703500Z"
    }
   }
  },
  {
   "cell_type": "markdown",
   "source": [
    "# Чтение набора данных об уровене денежных доходов населения по субъектам российской федерации и набора данных о приросте постоянного населения\n",
    "## Ссылки на данные: https://showdata.gks.ru/report/278934/, https://rosstat.gov.ru/storage/mediabank/urov_10subg_nm.xlsx\n",
    "\n"
   ],
   "metadata": {
    "collapsed": false
   }
  },
  {
   "cell_type": "code",
   "execution_count": 88,
   "outputs": [
    {
     "data": {
      "text/plain": "                        district                  region     year   \n0  Центральный федеральный округ  Белгородская область    2021 г.  \\\n1  Центральный федеральный округ       Брянская область   2021 г.   \n2  Центральный федеральный округ    Владимирская область  2021 г.   \n3  Центральный федеральный округ     Воронежская область  2021 г.   \n4  Центральный федеральный округ      Ивановская область  2021 г.   \n\n         income  \n0  35510.927696  \n1  31713.154043  \n2  28148.357000  \n3  34981.531471  \n4  30234.953044  ",
      "text/html": "<div>\n<style scoped>\n    .dataframe tbody tr th:only-of-type {\n        vertical-align: middle;\n    }\n\n    .dataframe tbody tr th {\n        vertical-align: top;\n    }\n\n    .dataframe thead th {\n        text-align: right;\n    }\n</style>\n<table border=\"1\" class=\"dataframe\">\n  <thead>\n    <tr style=\"text-align: right;\">\n      <th></th>\n      <th>district</th>\n      <th>region</th>\n      <th>year</th>\n      <th>income</th>\n    </tr>\n  </thead>\n  <tbody>\n    <tr>\n      <th>0</th>\n      <td>Центральный федеральный округ</td>\n      <td>Белгородская область</td>\n      <td>2021 г.</td>\n      <td>35510.927696</td>\n    </tr>\n    <tr>\n      <th>1</th>\n      <td>Центральный федеральный округ</td>\n      <td>Брянская область</td>\n      <td>2021 г.</td>\n      <td>31713.154043</td>\n    </tr>\n    <tr>\n      <th>2</th>\n      <td>Центральный федеральный округ</td>\n      <td>Владимирская область</td>\n      <td>2021 г.</td>\n      <td>28148.357000</td>\n    </tr>\n    <tr>\n      <th>3</th>\n      <td>Центральный федеральный округ</td>\n      <td>Воронежская область</td>\n      <td>2021 г.</td>\n      <td>34981.531471</td>\n    </tr>\n    <tr>\n      <th>4</th>\n      <td>Центральный федеральный округ</td>\n      <td>Ивановская область</td>\n      <td>2021 г.</td>\n      <td>30234.953044</td>\n    </tr>\n  </tbody>\n</table>\n</div>"
     },
     "execution_count": 88,
     "metadata": {},
     "output_type": "execute_result"
    }
   ],
   "source": [
    "income_df = pd.read_excel('income_data.xlsx')\n",
    "income_df.head()"
   ],
   "metadata": {
    "collapsed": false,
    "ExecuteTime": {
     "end_time": "2024-11-25T20:37:30.601982400Z",
     "start_time": "2024-11-25T20:37:30.556152500Z"
    }
   }
  },
  {
   "cell_type": "code",
   "execution_count": 89,
   "outputs": [
    {
     "data": {
      "text/plain": "                        district                region     year  growth\n0  Центральный федеральный округ  Белгородская область  2021 г.   -8962\n1  Центральный федеральный округ      Брянская область  2021 г.  -14420\n2  Центральный федеральный округ  Владимирская область  2021 г.  -16807\n3  Центральный федеральный округ   Воронежская область  2021 г.  -16521\n4  Центральный федеральный округ    Ивановская область  2021 г.  -14717",
      "text/html": "<div>\n<style scoped>\n    .dataframe tbody tr th:only-of-type {\n        vertical-align: middle;\n    }\n\n    .dataframe tbody tr th {\n        vertical-align: top;\n    }\n\n    .dataframe thead th {\n        text-align: right;\n    }\n</style>\n<table border=\"1\" class=\"dataframe\">\n  <thead>\n    <tr style=\"text-align: right;\">\n      <th></th>\n      <th>district</th>\n      <th>region</th>\n      <th>year</th>\n      <th>growth</th>\n    </tr>\n  </thead>\n  <tbody>\n    <tr>\n      <th>0</th>\n      <td>Центральный федеральный округ</td>\n      <td>Белгородская область</td>\n      <td>2021 г.</td>\n      <td>-8962</td>\n    </tr>\n    <tr>\n      <th>1</th>\n      <td>Центральный федеральный округ</td>\n      <td>Брянская область</td>\n      <td>2021 г.</td>\n      <td>-14420</td>\n    </tr>\n    <tr>\n      <th>2</th>\n      <td>Центральный федеральный округ</td>\n      <td>Владимирская область</td>\n      <td>2021 г.</td>\n      <td>-16807</td>\n    </tr>\n    <tr>\n      <th>3</th>\n      <td>Центральный федеральный округ</td>\n      <td>Воронежская область</td>\n      <td>2021 г.</td>\n      <td>-16521</td>\n    </tr>\n    <tr>\n      <th>4</th>\n      <td>Центральный федеральный округ</td>\n      <td>Ивановская область</td>\n      <td>2021 г.</td>\n      <td>-14717</td>\n    </tr>\n  </tbody>\n</table>\n</div>"
     },
     "execution_count": 89,
     "metadata": {},
     "output_type": "execute_result"
    }
   ],
   "source": [
    "population_df = pd.read_excel('population_data.xlsx')\n",
    "population_df.head()"
   ],
   "metadata": {
    "collapsed": false,
    "ExecuteTime": {
     "end_time": "2024-11-25T20:37:33.348411Z",
     "start_time": "2024-11-25T20:37:33.305780700Z"
    }
   }
  },
  {
   "cell_type": "code",
   "execution_count": 90,
   "outputs": [],
   "source": [
    "income_df = income_df.dropna()\n",
    "population_df = population_df.dropna()"
   ],
   "metadata": {
    "collapsed": false,
    "ExecuteTime": {
     "end_time": "2024-11-25T20:37:35.644392900Z",
     "start_time": "2024-11-25T20:37:35.629819100Z"
    }
   }
  },
  {
   "cell_type": "code",
   "execution_count": 91,
   "outputs": [
    {
     "name": "stdout",
     "output_type": "stream",
     "text": [
      "<class 'pandas.core.frame.DataFrame'>\n",
      "RangeIndex: 174 entries, 0 to 173\n",
      "Data columns (total 4 columns):\n",
      " #   Column    Non-Null Count  Dtype  \n",
      "---  ------    --------------  -----  \n",
      " 0   district  174 non-null    object \n",
      " 1   region    174 non-null    object \n",
      " 2   year      174 non-null    object \n",
      " 3   income    174 non-null    float64\n",
      "dtypes: float64(1), object(3)\n",
      "memory usage: 5.6+ KB\n"
     ]
    }
   ],
   "source": [
    "income_df.info()"
   ],
   "metadata": {
    "collapsed": false,
    "ExecuteTime": {
     "end_time": "2024-11-25T20:37:37.155452700Z",
     "start_time": "2024-11-25T20:37:37.126638300Z"
    }
   }
  },
  {
   "cell_type": "code",
   "execution_count": 92,
   "outputs": [
    {
     "name": "stdout",
     "output_type": "stream",
     "text": [
      "<class 'pandas.core.frame.DataFrame'>\n",
      "RangeIndex: 174 entries, 0 to 173\n",
      "Data columns (total 4 columns):\n",
      " #   Column    Non-Null Count  Dtype \n",
      "---  ------    --------------  ----- \n",
      " 0   district  174 non-null    object\n",
      " 1   region    174 non-null    object\n",
      " 2   year      174 non-null    object\n",
      " 3   growth    174 non-null    int64 \n",
      "dtypes: int64(1), object(3)\n",
      "memory usage: 5.6+ KB\n"
     ]
    }
   ],
   "source": [
    "population_df.info()"
   ],
   "metadata": {
    "collapsed": false,
    "ExecuteTime": {
     "end_time": "2024-11-25T20:37:39.080380700Z",
     "start_time": "2024-11-25T20:37:39.051350600Z"
    }
   }
  },
  {
   "cell_type": "markdown",
   "source": [
    "## Посчитаем коэффициент корреляции"
   ],
   "metadata": {
    "collapsed": false
   }
  },
  {
   "cell_type": "code",
   "execution_count": 93,
   "outputs": [],
   "source": [
    "merged_df = pd.merge(income_df, population_df, on=['district','region', 'year'])"
   ],
   "metadata": {
    "collapsed": false,
    "ExecuteTime": {
     "end_time": "2024-11-25T20:37:50.911646600Z",
     "start_time": "2024-11-25T20:37:50.888151800Z"
    }
   }
  },
  {
   "cell_type": "code",
   "execution_count": 94,
   "outputs": [
    {
     "name": "stdout",
     "output_type": "stream",
     "text": [
      "<class 'pandas.core.frame.DataFrame'>\n",
      "RangeIndex: 102 entries, 0 to 101\n",
      "Data columns (total 5 columns):\n",
      " #   Column    Non-Null Count  Dtype  \n",
      "---  ------    --------------  -----  \n",
      " 0   district  102 non-null    object \n",
      " 1   region    102 non-null    object \n",
      " 2   year      102 non-null    object \n",
      " 3   income    102 non-null    float64\n",
      " 4   growth    102 non-null    int64  \n",
      "dtypes: float64(1), int64(1), object(3)\n",
      "memory usage: 4.1+ KB\n"
     ]
    }
   ],
   "source": [
    "merged_df.info()"
   ],
   "metadata": {
    "collapsed": false,
    "ExecuteTime": {
     "end_time": "2024-11-25T20:37:52.540534300Z",
     "start_time": "2024-11-25T20:37:52.486593400Z"
    }
   }
  },
  {
   "cell_type": "code",
   "execution_count": 95,
   "outputs": [
    {
     "name": "stdout",
     "output_type": "stream",
     "text": [
      "Коэффициент корреляции: 0.19771612104312278\n"
     ]
    }
   ],
   "source": [
    "# Вычисление коэффициента корреляции\n",
    "correlation = merged_df['growth'].corr(merged_df['income'])\n",
    "print(f'Коэффициент корреляции: {correlation}')"
   ],
   "metadata": {
    "collapsed": false,
    "ExecuteTime": {
     "end_time": "2024-11-25T20:37:55.490765600Z",
     "start_time": "2024-11-25T20:37:55.459707900Z"
    }
   }
  },
  {
   "cell_type": "markdown",
   "source": [
    "## Вывод: наблюдаем положительную слабую"
   ],
   "metadata": {
    "collapsed": false
   }
  },
  {
   "cell_type": "code",
   "execution_count": 97,
   "outputs": [
    {
     "data": {
      "text/plain": "Text(0, 0.5, 'Доход')"
     },
     "execution_count": 97,
     "metadata": {},
     "output_type": "execute_result"
    },
    {
     "data": {
      "text/plain": "<Figure size 640x480 with 1 Axes>",
      "image/png": "[encoded data removed]"
     },
     "metadata": {},
     "output_type": "display_data"
    }
   ],
   "source": [
    "# Строительство гистограммы рассеяния\n",
    "plt.scatter(merged_df['growth'], merged_df['income'], color='blue', label='Данные')\n",
    "plt.title('Гистограмма рассеяния')\n",
    "plt.xlabel('Прирост постоянного населения')\n",
    "plt.ylabel('Доход')"
   ],
   "metadata": {
    "collapsed": false,
    "ExecuteTime": {
     "end_time": "2024-11-25T20:38:19.583161800Z",
     "start_time": "2024-11-25T20:38:19.313697Z"
    }
   }
  },
  {
   "cell_type": "markdown",
   "source": [
    "## Вывод: видим на графике облако точек, что может говорить о взаимосвязности данных"
   ],
   "metadata": {
    "collapsed": false
   }
  },
  {
   "cell_type": "markdown",
   "source": [
    "## Построим линию аппроксимации"
   ],
   "metadata": {
    "collapsed": false
   }
  },
  {
   "cell_type": "code",
   "execution_count": 98,
   "outputs": [],
   "source": [
    "X = merged_df['growth'].values.reshape(-1, 1)\n",
    "y = merged_df['income'].values\n",
    "\n",
    "model = LinearRegression()\n",
    "model.fit(X, y)\n",
    "y_pred = model.predict(X)"
   ],
   "metadata": {
    "collapsed": false,
    "ExecuteTime": {
     "end_time": "2024-11-25T20:38:27.381683900Z",
     "start_time": "2024-11-25T20:38:27.360135800Z"
    }
   }
  },
  {
   "cell_type": "code",
   "execution_count": 99,
   "outputs": [
    {
     "data": {
      "text/plain": "<Figure size 640x480 with 1 Axes>",
      "image/png": "[encoded data removed]"
     },
     "metadata": {},
     "output_type": "display_data"
    }
   ],
   "source": [
    "# Построение линии аппроксимации\n",
    "# Строительство гистограммы рассеяния\n",
    "plt.scatter(merged_df['growth'], merged_df['income'], color='blue', label='Данные')\n",
    "plt.title('Гистограмма рассеяния')\n",
    "plt.xlabel('Прирост постоянного населения')\n",
    "plt.ylabel('Доход')\n",
    "\n",
    "plt.plot(X, y_pred, color='red', label='Линия аппроксимации')\n",
    "plt.legend()\n",
    "plt.show()"
   ],
   "metadata": {
    "collapsed": false,
    "ExecuteTime": {
     "end_time": "2024-11-25T20:38:29.307239300Z",
     "start_time": "2024-11-25T20:38:29.087640500Z"
    }
   }
  },
  {
   "cell_type": "code",
   "execution_count": 101,
   "outputs": [
    {
     "name": "stdout",
     "output_type": "stream",
     "text": [
      "Коэффициент детерминации R²: 0.04\n"
     ]
    }
   ],
   "source": [
    "r_squared = model.score(X, y)\n",
    "print(f'Коэффициент детерминации R²: {round(r_squared, 2)}')"
   ],
   "metadata": {
    "collapsed": false,
    "ExecuteTime": {
     "end_time": "2024-11-25T20:38:54.617063400Z",
     "start_time": "2024-11-25T20:38:54.596059100Z"
    }
   }
  },
  {
   "cell_type": "markdown",
   "source": [
    "##  Вывод: данные о приросте постоянного населения определяют всего 4% вариации дохода"
   ],
   "metadata": {
    "collapsed": false
   }
  },
  {
   "cell_type": "markdown",
   "source": [
    "## Разобьём набор данных на две выборки"
   ],
   "metadata": {
    "collapsed": false
   }
  },
  {
   "cell_type": "code",
   "execution_count": 102,
   "outputs": [],
   "source": [
    "# Случайная выборка ~ 1/3 наблюдений\n",
    "random_sample = merged_df.sample(frac=1/3)"
   ],
   "metadata": {
    "collapsed": false,
    "ExecuteTime": {
     "end_time": "2024-11-25T20:42:27.785735300Z",
     "start_time": "2024-11-25T20:42:27.774643100Z"
    }
   }
  },
  {
   "cell_type": "code",
   "execution_count": 103,
   "outputs": [],
   "source": [
    "# Стратифицированная выборка по федеральным округам\n",
    "stratified_sample = merged_df.groupby('district', group_keys=False).apply(lambda x: x.sample(frac=1/3))"
   ],
   "metadata": {
    "collapsed": false,
    "ExecuteTime": {
     "end_time": "2024-11-25T20:42:30.023071800Z",
     "start_time": "2024-11-25T20:42:30.002186200Z"
    }
   }
  },
  {
   "cell_type": "code",
   "execution_count": 104,
   "outputs": [],
   "source": [
    "# Средние значения\n",
    "mean_random = random_sample['income'].mean()\n",
    "mean_stratified = stratified_sample['income'].mean()\n",
    "mean_population = merged_df['income'].mean()"
   ],
   "metadata": {
    "collapsed": false,
    "ExecuteTime": {
     "end_time": "2024-11-25T20:43:30.850880600Z",
     "start_time": "2024-11-25T20:43:30.831939100Z"
    }
   }
  },
  {
   "cell_type": "markdown",
   "source": [
    "## Сравним средние значения выборок"
   ],
   "metadata": {
    "collapsed": false
   }
  },
  {
   "cell_type": "code",
   "execution_count": 108,
   "outputs": [
    {
     "name": "stdout",
     "output_type": "stream",
     "text": [
      "Среднее значение случайной выборки: 32209.31\n",
      "Среднее значение стратифицированной выборки: 33261 2\n",
      "Среднее значение генеральной выборки: 34079 2\n"
     ]
    }
   ],
   "source": [
    "print(\"Среднее значение случайной выборки:\", round(mean_random, 2))\n",
    "print(\"Среднее значение стратифицированной выборки:\", round(mean_stratified),2)\n",
    "print(\"Среднее значение генеральной выборки:\", round(mean_population),2)"
   ],
   "metadata": {
    "collapsed": false,
    "ExecuteTime": {
     "end_time": "2024-11-25T20:44:09.776391800Z",
     "start_time": "2024-11-25T20:44:09.759744700Z"
    }
   }
  },
  {
   "cell_type": "markdown",
   "source": [
    "## Посчитаем доверительные интервалы для средних по выборкам"
   ],
   "metadata": {
    "collapsed": false
   }
  },
  {
   "cell_type": "code",
   "execution_count": 110,
   "outputs": [],
   "source": [
    "def confidence_interval(data, confidence=0.95):\n",
    "    n = len(data)\n",
    "    mean = data.mean()\n",
    "    sem = stats.sem(data)  # стандартная ошибка среднего\n",
    "\n",
    "    h = sem * stats.t.ppf((1 + confidence) / 2., n-1)  # t-критерий\n",
    "    return mean - h, mean + h"
   ],
   "metadata": {
    "collapsed": false,
    "ExecuteTime": {
     "end_time": "2024-11-25T20:45:50.082326600Z",
     "start_time": "2024-11-25T20:45:50.067303Z"
    }
   }
  },
  {
   "cell_type": "code",
   "execution_count": 112,
   "outputs": [],
   "source": [
    "# Доверительные интервалы\n",
    "ci_random_90 = confidence_interval(random_sample['income'], confidence=0.90)\n",
    "ci_random_95 = confidence_interval(random_sample['income'], confidence=0.95)\n",
    "ci_random_99 = confidence_interval(random_sample['income'], confidence=0.99)\n",
    "\n",
    "ci_stratified_90 = confidence_interval(stratified_sample['income'], confidence=0.90)\n",
    "ci_stratified_95 = confidence_interval(stratified_sample['income'], confidence=0.95)\n",
    "ci_stratified_99 = confidence_interval(stratified_sample['income'], confidence=0.99)"
   ],
   "metadata": {
    "collapsed": false,
    "ExecuteTime": {
     "end_time": "2024-11-25T20:46:00.902634700Z",
     "start_time": "2024-11-25T20:46:00.881393400Z"
    }
   }
  },
  {
   "cell_type": "code",
   "execution_count": 115,
   "outputs": [
    {
     "name": "stdout",
     "output_type": "stream",
     "text": [
      "Доверительный интервал 90% для случайной выборки: (30608.36921522218, 33810.24413185412)\n",
      "Доверительный интервал 95% для случайной выборки: (30284.697746170932, 34133.91560090537)\n",
      "Доверительный интервал 99% для случайной выборки: (29623.684125785563, 34794.92922129074)\n"
     ]
    }
   ],
   "source": [
    "print(\"Доверительный интервал 90% для случайной выборки:\", ci_random_90)\n",
    "print(\"Доверительный интервал 95% для случайной выборки:\", ci_random_95)\n",
    "print(\"Доверительный интервал 99% для случайной выборки:\", ci_random_99)"
   ],
   "metadata": {
    "collapsed": false,
    "ExecuteTime": {
     "end_time": "2024-11-25T20:46:16.859513300Z",
     "start_time": "2024-11-25T20:46:16.841976100Z"
    }
   }
  },
  {
   "cell_type": "code",
   "execution_count": 116,
   "outputs": [
    {
     "name": "stdout",
     "output_type": "stream",
     "text": [
      "Доверительный интервал 90% для стратифицированной выборки: (30883.00689227037, 35638.559128616806)\n",
      "Доверительный интервал 95% для стратифицированной выборки: (30401.4621252038, 36120.10389568337)\n",
      "Доверительный интервал 99% для стратифицированной выборки: (29416.672293468167, 37104.893727419)\n"
     ]
    }
   ],
   "source": [
    "print(\"Доверительный интервал 90% для стратифицированной выборки:\", ci_stratified_90)\n",
    "print(\"Доверительный интервал 95% для стратифицированной выборки:\", ci_stratified_95)\n",
    "print(\"Доверительный интервал 99% для стратифицированной выборки:\", ci_stratified_99)"
   ],
   "metadata": {
    "collapsed": false,
    "ExecuteTime": {
     "end_time": "2024-11-25T20:46:19.087004800Z",
     "start_time": "2024-11-25T20:46:19.055193400Z"
    }
   }
  },
  {
   "cell_type": "code",
   "execution_count": 117,
   "outputs": [
    {
     "name": "stdout",
     "output_type": "stream",
     "text": [
      "Сравнение средних значений и доверительных интервалов:\n",
      "Генеральная выборка: 34078.546789459324\n",
      "Случайная выборка: 32209.30667353815, Доверительный интервал 95%: (30284.697746170932, 34133.91560090537)\n",
      "Стратифицированная выборка: 33260.783010443585, Доверительный интервал 95%: (30401.4621252038, 36120.10389568337)\n"
     ]
    }
   ],
   "source": [
    "print(\"Сравнение средних значений и доверительных интервалов:\")\n",
    "print(f\"Генеральная выборка: {mean_population}\")\n",
    "print(f\"Случайная выборка: {mean_random}, Доверительный интервал 95%: {ci_random_95}\")\n",
    "print(f\"Стратифицированная выборка: {mean_stratified}, Доверительный интервал 95%: {ci_stratified_95}\")"
   ],
   "metadata": {
    "collapsed": false,
    "ExecuteTime": {
     "end_time": "2024-11-25T20:46:30.771884200Z",
     "start_time": "2024-11-25T20:46:30.729502900Z"
    }
   }
  },
  {
   "cell_type": "markdown",
   "source": [
    "## Вывод: среднее значение генеральной выборки попадает в 95%-е доверительные интервалы обеих выборок, однако для случайной выборки среднее генеральной выборки почти выходит за его границы, что говорит о том, что стратифицированная выборка лучше соотносится с распределением генеральной выборки."
   ],
   "metadata": {
    "collapsed": false
   }
  }
 ],
 "metadata": {
  "kernelspec": {
   "display_name": "Python 3",
   "language": "python",
   "name": "python3"
  },
  "language_info": {
   "codemirror_mode": {
    "name": "ipython",
    "version": 2
   },
   "file_extension": ".py",
   "mimetype": "text/x-python",
   "name": "python",
   "nbconvert_exporter": "python",
   "pygments_lexer": "ipython2",
   "version": "2.7.6"
  }
 },
 "nbformat": 4,
 "nbformat_minor": 0
}
